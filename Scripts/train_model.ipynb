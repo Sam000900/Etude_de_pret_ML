{
 "cells": [
  {
   "cell_type": "markdown",
   "id": "0a0f9412",
   "metadata": {},
   "source": [
    "## I - Imports"
   ]
  },
  {
   "cell_type": "code",
   "execution_count": null,
   "id": "e402bbeb",
   "metadata": {},
   "outputs": [],
   "source": [
    "import os\n",
    "\n",
    "os.environ[\"SCIPY_ARRAY_API\"] = \"1\" # Nécessaire pour l'import de SMOTE\n",
    "\n",
    "import joblib\n",
    "import numpy as np\n",
    "import pandas as pd\n",
    "import seaborn as sns\n",
    "import xgboost as xgb\n",
    "import matplotlib.pyplot as plt\n",
    "\n",
    "from sklearn.impute import SimpleImputer\n",
    "from sklearn.metrics import classification_report\n",
    "from sklearn.ensemble import RandomForestClassifier\n",
    "from sklearn.linear_model import LogisticRegression\n",
    "from imblearn.under_sampling import RandomUnderSampler\n",
    "from sklearn.preprocessing import StandardScaler, OneHotEncoder\n",
    "from sklearn.model_selection import GridSearchCV, train_test_split\n",
    "from sklearn.metrics import roc_auc_score, roc_curve, confusion_matrix"
   ]
  },
  {
   "cell_type": "markdown",
   "id": "a8284c4f",
   "metadata": {},
   "source": [
    "## II - Prétraitement des données"
   ]
  },
  {
   "cell_type": "code",
   "execution_count": 2,
   "id": "2c5f2eff",
   "metadata": {},
   "outputs": [
    {
     "name": "stdout",
     "output_type": "stream",
     "text": [
      "Shape du dataset original : (307511, 122)\n",
      "\n",
      "Distribution de la variable cible (TARGET) :\n",
      "TARGET\n",
      "0    282686\n",
      "1     24825\n",
      "Name: count, dtype: int64\n",
      "\n",
      "Description statistique du dataset original :\n",
      "          SK_ID_CURR         TARGET   CNT_CHILDREN  AMT_INCOME_TOTAL  \\\n",
      "count  307511.000000  307511.000000  307511.000000      3.075110e+05   \n",
      "mean   278180.518577       0.080729       0.417052      1.687979e+05   \n",
      "std    102790.175348       0.272419       0.722121      2.371231e+05   \n",
      "min    100002.000000       0.000000       0.000000      2.565000e+04   \n",
      "25%    189145.500000       0.000000       0.000000      1.125000e+05   \n",
      "50%    278202.000000       0.000000       0.000000      1.471500e+05   \n",
      "75%    367142.500000       0.000000       1.000000      2.025000e+05   \n",
      "max    456255.000000       1.000000      19.000000      1.170000e+08   \n",
      "\n",
      "         AMT_CREDIT    AMT_ANNUITY  AMT_GOODS_PRICE  \\\n",
      "count  3.075110e+05  307499.000000     3.072330e+05   \n",
      "mean   5.990260e+05   27108.573909     5.383962e+05   \n",
      "std    4.024908e+05   14493.737315     3.694465e+05   \n",
      "min    4.500000e+04    1615.500000     4.050000e+04   \n",
      "25%    2.700000e+05   16524.000000     2.385000e+05   \n",
      "50%    5.135310e+05   24903.000000     4.500000e+05   \n",
      "75%    8.086500e+05   34596.000000     6.795000e+05   \n",
      "max    4.050000e+06  258025.500000     4.050000e+06   \n",
      "\n",
      "       REGION_POPULATION_RELATIVE     DAYS_BIRTH  DAYS_EMPLOYED  ...  \\\n",
      "count               307511.000000  307511.000000  307511.000000  ...   \n",
      "mean                     0.020868  -16036.995067   63815.045904  ...   \n",
      "std                      0.013831    4363.988632  141275.766519  ...   \n",
      "min                      0.000290  -25229.000000  -17912.000000  ...   \n",
      "25%                      0.010006  -19682.000000   -2760.000000  ...   \n",
      "50%                      0.018850  -15750.000000   -1213.000000  ...   \n",
      "75%                      0.028663  -12413.000000    -289.000000  ...   \n",
      "max                      0.072508   -7489.000000  365243.000000  ...   \n",
      "\n",
      "       FLAG_DOCUMENT_18  FLAG_DOCUMENT_19  FLAG_DOCUMENT_20  FLAG_DOCUMENT_21  \\\n",
      "count     307511.000000     307511.000000     307511.000000     307511.000000   \n",
      "mean           0.008130          0.000595          0.000507          0.000335   \n",
      "std            0.089798          0.024387          0.022518          0.018299   \n",
      "min            0.000000          0.000000          0.000000          0.000000   \n",
      "25%            0.000000          0.000000          0.000000          0.000000   \n",
      "50%            0.000000          0.000000          0.000000          0.000000   \n",
      "75%            0.000000          0.000000          0.000000          0.000000   \n",
      "max            1.000000          1.000000          1.000000          1.000000   \n",
      "\n",
      "       AMT_REQ_CREDIT_BUREAU_HOUR  AMT_REQ_CREDIT_BUREAU_DAY  \\\n",
      "count               265992.000000              265992.000000   \n",
      "mean                     0.006402                   0.007000   \n",
      "std                      0.083849                   0.110757   \n",
      "min                      0.000000                   0.000000   \n",
      "25%                      0.000000                   0.000000   \n",
      "50%                      0.000000                   0.000000   \n",
      "75%                      0.000000                   0.000000   \n",
      "max                      4.000000                   9.000000   \n",
      "\n",
      "       AMT_REQ_CREDIT_BUREAU_WEEK  AMT_REQ_CREDIT_BUREAU_MON  \\\n",
      "count               265992.000000              265992.000000   \n",
      "mean                     0.034362                   0.267395   \n",
      "std                      0.204685                   0.916002   \n",
      "min                      0.000000                   0.000000   \n",
      "25%                      0.000000                   0.000000   \n",
      "50%                      0.000000                   0.000000   \n",
      "75%                      0.000000                   0.000000   \n",
      "max                      8.000000                  27.000000   \n",
      "\n",
      "       AMT_REQ_CREDIT_BUREAU_QRT  AMT_REQ_CREDIT_BUREAU_YEAR  \n",
      "count              265992.000000               265992.000000  \n",
      "mean                    0.265474                    1.899974  \n",
      "std                     0.794056                    1.869295  \n",
      "min                     0.000000                    0.000000  \n",
      "25%                     0.000000                    0.000000  \n",
      "50%                     0.000000                    1.000000  \n",
      "75%                     0.000000                    3.000000  \n",
      "max                   261.000000                   25.000000  \n",
      "\n",
      "[8 rows x 106 columns]\n"
     ]
    }
   ],
   "source": [
    "os.chdir(\"C:/Users/thoma/Documents/Thomas - SSD/Missions_ComeUP/SamanthaGarguier\")\n",
    "\n",
    "# Chargement du dataset train\n",
    "train = pd.read_csv(\"./Data/application_train.csv\")\n",
    "\n",
    "print(f\"Shape du dataset original : {train.shape}\")\n",
    "\n",
    "print(\"\\nDistribution de la variable cible (TARGET) :\")\n",
    "target_counts = train[\"TARGET\"].value_counts()\n",
    "print(target_counts)\n",
    "\n",
    "print(\"\\nDescription statistique du dataset original :\")\n",
    "print(train.describe())"
   ]
  },
  {
   "cell_type": "markdown",
   "id": "d65ea5f1",
   "metadata": {},
   "source": [
    "### Respect du RGPD :\n",
    "\n",
    "Nos analyses ne sont fondent pas sur des *critères discriminants*.\n",
    "Le **genre** en fait partie. Nous effacons donc les colonnes aux données sensibles de notre dataset."
   ]
  },
  {
   "cell_type": "code",
   "execution_count": 3,
   "id": "a9651372",
   "metadata": {},
   "outputs": [],
   "source": [
    "cols_to_drop = ['CODE_GENDER', 'NAME_FAMILY_STATUS', 'NAME_HOUSING_TYPE','OCCUPATION_TYPE']\n",
    "train = train.drop(columns=cols_to_drop)"
   ]
  },
  {
   "cell_type": "markdown",
   "id": "5fc74bd1",
   "metadata": {},
   "source": [
    "### Conseils du notebook :\n",
    "\n",
    "Nous supprimons les colonnes qui possèdent trop de valeurs manquantes. En effet, remplir ces dernières ne servirait à rien il vaut mieux les retirer"
   ]
  },
  {
   "cell_type": "code",
   "execution_count": 4,
   "id": "ed953e7d",
   "metadata": {},
   "outputs": [],
   "source": [
    "missing_ratio = train.isnull().mean()\n",
    "train = train.loc[:, missing_ratio < 0.4] "
   ]
  },
  {
   "cell_type": "markdown",
   "id": "5924c43c",
   "metadata": {},
   "source": [
    "Nous rempissons les colonnes n'ayant pas trop de valeurs manquantes. Le but est de remplacer les **valeurs vide** par **la valeur la plus commune**. Pour cela nous allons séparer les *valeurs numériques* des *valeurs catégorielles* et les traiter indépendamment."
   ]
  },
  {
   "cell_type": "code",
   "execution_count": 5,
   "id": "73375348",
   "metadata": {},
   "outputs": [],
   "source": [
    "# On remplace les valeurs vides de manière simple # [R Notebook Ref: Missing imputation simplifiée]\n",
    " \n",
    "# Séparation des colonnes numériques et catégoriques\n",
    "num_cols = train.select_dtypes(include=[\"int64\", \"float64\"]).columns.tolist()\n",
    "cat_cols = train.select_dtypes(include=[\"object\", \"category\"]).columns.tolist()\n",
    "\n",
    "# Imputation\n",
    "num_imputer = SimpleImputer(strategy=\"median\")\n",
    "cat_imputer = SimpleImputer(strategy=\"most_frequent\")\n",
    "\n",
    "train[num_cols] = num_imputer.fit_transform(train[num_cols])\n",
    "train[cat_cols] = cat_imputer.fit_transform(train[cat_cols])"
   ]
  },
  {
   "cell_type": "markdown",
   "id": "75df2a7b",
   "metadata": {},
   "source": [
    "Pour permettre aux modèles d'effectuer des calculs sur le dataset nous appliquons un One-Hot encoding qui va garantir la présence, uniquement, de valeurs numériques."
   ]
  },
  {
   "cell_type": "code",
   "execution_count": 6,
   "id": "114e7ecf",
   "metadata": {},
   "outputs": [],
   "source": [
    "# Application d'un One-Hot encoding pour n'avoir que des valeurs numériques\n",
    "train = pd.get_dummies(train)"
   ]
  },
  {
   "cell_type": "markdown",
   "id": "c63c4482",
   "metadata": {},
   "source": [
    "Enfin, nous supprimons les colonnes qui trop corrélées"
   ]
  },
  {
   "cell_type": "code",
   "execution_count": 7,
   "id": "b4349397",
   "metadata": {},
   "outputs": [],
   "source": [
    "corr_matrix = train.drop(columns=[\"TARGET\"]).corr().abs()\n",
    "\n",
    "upper = corr_matrix.where(np.triu(np.ones(corr_matrix.shape), k=1).astype(bool))\n",
    "to_drop = [column for column in upper.columns if any(upper[column] > 0.9)]\n",
    "\n",
    "train = train.drop(columns=to_drop)"
   ]
  },
  {
   "cell_type": "markdown",
   "id": "7df5bfb6",
   "metadata": {},
   "source": [
    "## III - Séparation des données "
   ]
  },
  {
   "cell_type": "markdown",
   "id": "84f555bd",
   "metadata": {},
   "source": [
    "Nous avons remarqué, en lisant les chiffre issus du **pd.describe()**, que les classes de ce dataset sont très désiquilibré (*0 : 300 000, 1 : 25 000*). Il éxiste plusieurs méthodes pour pallier à ce problème:\n",
    "\n",
    "- **Oversampling** : qui va augmenter la classe minoritaire en créant des valeurs artificielles\n",
    "\n",
    "- **Undersampling** : qui va réduire la classe majoritaire\n",
    "\n",
    "- **Méthode SMOTE** : qui va aussi augmenter la classe minoritaire\n",
    "\n",
    "A la vue d'un tel écart de valeurs, nous avons opté pour une méthode d'**undersampling**. En effet, l'*oversampling* créerai des 100 de milliers de valeurs factices, qui ont de gros risques de fausser les performances du modèles, et la *méthode SMOTE* n'a pas donné de résultats satisfaisant (tout en allongeant le temps de calcul)"
   ]
  },
  {
   "cell_type": "code",
   "execution_count": 8,
   "id": "083af4fc",
   "metadata": {},
   "outputs": [],
   "source": [
    "# Séparation des features et du label\n",
    "X = train.drop(columns=[\"TARGET\"])\n",
    "y = train[\"TARGET\"]\n",
    "\n",
    "# Séparation train / test\n",
    "X_train, X_test, y_train, y_test = train_test_split(X, y, test_size=0.3, stratify=y, random_state=13)\n",
    "\n",
    "scaler = StandardScaler()\n",
    "X_train_scaled = scaler.fit_transform(X_train)\n",
    "X_test_scaled = scaler.transform(X_test)\n",
    "\n",
    "# On undersample la classe majoritaire pour le set d'entrainement\n",
    "rus = RandomUnderSampler(random_state=13)\n",
    "X_train_resampled, y_train_resampled = rus.fit_resample(X_train_scaled, y_train)"
   ]
  },
  {
   "cell_type": "markdown",
   "id": "a1a1b672",
   "metadata": {},
   "source": [
    "## IV - Entrainement des modèles"
   ]
  },
  {
   "cell_type": "markdown",
   "id": "846ced90",
   "metadata": {},
   "source": [
    "Comme mentionné dans le notebook il est préferable d'essayer plusieurs modèles et de les comparer. Nous avons opté pour les modèles **XGBoost**, **RandomForest** et **LogisticRegression**.\n",
    "\n",
    "Pour chacun de ces modèles nous avons instancié une listes de paramètres à tester et, avec **GridSearchCV()** nous avons testé toutes les possibilités pour en retenir la meilleure."
   ]
  },
  {
   "cell_type": "code",
   "execution_count": 9,
   "id": "db4df7ec",
   "metadata": {},
   "outputs": [
    {
     "name": "stdout",
     "output_type": "stream",
     "text": [
      "Recherche des hyperparamètres pour XGBoost...\n",
      "Fitting 5 folds for each of 1024 candidates, totalling 5120 fits\n",
      "XGBoost - AUC (train) : 0.744\n",
      "Meilleurs paramètres: {'colsample_bytree': 0.6, 'learning_rate': 0.05, 'max_depth': 5, 'n_estimators': 300, 'subsample': 0.9}\n",
      "\n",
      "Recherche des hyperparamètres pour RandomForest...\n",
      "Fitting 5 folds for each of 16 candidates, totalling 80 fits\n",
      "RandomForest - AUC (train) : 0.736\n",
      "Meilleurs paramètres: {'max_depth': 20, 'n_estimators': 300}\n",
      "\n",
      "Recherche des hyperparamètres pour LogisticRegression...\n",
      "Fitting 5 folds for each of 4 candidates, totalling 20 fits\n",
      "LogisticRegression - AUC (train) : 0.734\n",
      "Meilleurs paramètres: {'C': 10}\n",
      "\n",
      "Le meilleur modèle est XGBoost avec un AUC de 0.744\n"
     ]
    }
   ],
   "source": [
    "model_params = {\n",
    "\n",
    "    \"XGBoost\": {\n",
    "        \"model\": xgb.XGBClassifier(eval_metric='logloss'),\n",
    "        \"params\": {\n",
    "            \"n_estimators\": [50, 100, 200, 300],\n",
    "            \"max_depth\": [3, 5, 7, 10],\n",
    "            \"learning_rate\": [0.01, 0.05, 0.08, 0.1],\n",
    "            \"subsample\": [0.7, 0.8, 0.9, 1.0],\n",
    "            \"colsample_bytree\": [0.6, 0.8, 0.9, 1.0]\n",
    "        }\n",
    "    },\n",
    "\n",
    "    \"RandomForest\": {\n",
    "        \"model\": RandomForestClassifier(),\n",
    "        \"params\": {\n",
    "            \"n_estimators\": [50, 100, 200, 300],\n",
    "            \"max_depth\": [5, 10, 15, 20]\n",
    "        }\n",
    "    },\n",
    "\n",
    "    \"LogisticRegression\": {\n",
    "        \"model\": LogisticRegression(max_iter=1000),\n",
    "        \"params\": {\n",
    "            \"C\": [0.1, 1, 5, 10]\n",
    "        }\n",
    "    }\n",
    "}\n",
    "\n",
    "best_auc = 0 \n",
    "best_name = \"\"\n",
    "best_model = None\n",
    "\n",
    "for name, mp in model_params.items():\n",
    "\n",
    "    print(f\"Recherche des hyperparamètres pour {name}...\")\n",
    "    \n",
    "    grid = GridSearchCV(\n",
    "\n",
    "        mp[\"model\"],\n",
    "        mp[\"params\"],\n",
    "\n",
    "        scoring=\"roc_auc\",\n",
    "        cv=5,\n",
    "\n",
    "        n_jobs=-1,\n",
    "        verbose=1)\n",
    "    \n",
    "    grid.fit(X_train_resampled, y_train_resampled)\n",
    "    y_test_proba = grid.best_estimator_.predict_proba(X_test_scaled)[:, 1]\n",
    "    \n",
    "    auc = roc_auc_score(y_test, y_test_proba)\n",
    "    \n",
    "    print(f\"{name} - AUC (train) : {auc:.3f}\")\n",
    "    print(f\"Meilleurs paramètres: {grid.best_params_}\\n\")\n",
    "    \n",
    "    if auc > best_auc:\n",
    "\n",
    "        best_auc = auc\n",
    "        best_name = name\n",
    "        best_model = grid.best_estimator_\n",
    "\n",
    "print(f\"Le meilleur modèle est {best_name} avec un AUC de {best_auc:.3f}\")"
   ]
  },
  {
   "cell_type": "markdown",
   "id": "48bf3aeb",
   "metadata": {},
   "source": [
    "## V - Visualisation des résultats"
   ]
  },
  {
   "cell_type": "code",
   "execution_count": 10,
   "id": "19f04f14",
   "metadata": {},
   "outputs": [
    {
     "name": "stdout",
     "output_type": "stream",
     "text": [
      "Rapport de classification (ensemble d'entraînement) :\n",
      "\n",
      "              precision    recall  f1-score   support\n",
      "\n",
      "         0.0      0.724     0.731     0.728     17377\n",
      "         1.0      0.729     0.722     0.725     17377\n",
      "\n",
      "    accuracy                          0.727     34754\n",
      "   macro avg      0.727     0.727     0.727     34754\n",
      "weighted avg      0.727     0.727     0.727     34754\n",
      "\n"
     ]
    },
    {
     "data": {
      "image/png": "[encoded data removed]",
      "text/plain": [
       "<Figure size 600x400 with 1 Axes>"
      ]
     },
     "metadata": {},
     "output_type": "display_data"
    },
    {
     "data": {
      "image/png": "[encoded data removed]",
      "text/plain": [
       "<Figure size 500x400 with 2 Axes>"
      ]
     },
     "metadata": {},
     "output_type": "display_data"
    }
   ],
   "source": [
    "y_train_pred = best_model.predict(X_train_resampled)\n",
    "y_train_proba = best_model.predict_proba(X_train_resampled)[:, 1]\n",
    "\n",
    "# Affichage du rapport de classification\n",
    "\n",
    "print(\"Rapport de classification (ensemble d'entraînement) :\\n\")\n",
    "print(classification_report(y_train_resampled, y_train_pred, digits=3))\n",
    "\n",
    "# Affichage de la courbe ROC\n",
    "\n",
    "fpr, tpr, _ = roc_curve(y_train_resampled, y_train_proba)\n",
    "\n",
    "plt.figure(figsize=(6, 4))\n",
    "plt.plot(fpr, tpr, label=f\"AUC = {roc_auc_score(y_train_resampled, y_train_proba):.3f}\")\n",
    "plt.plot([0, 1], [0, 1], linestyle='--', color='grey')\n",
    "\n",
    "plt.title(\"Courbe ROC - Ensemble d'entraînement\")\n",
    "plt.ylabel(\"Taux de vrais positifs\")\n",
    "plt.xlabel(\"Taux de faux positifs\")\n",
    "\n",
    "plt.legend()\n",
    "plt.grid()\n",
    "\n",
    "plt.tight_layout()\n",
    "plt.show()\n",
    "\n",
    "# Affichage de la matrice de confusion\n",
    "\n",
    "cm = confusion_matrix(y_train_resampled, y_train_pred)\n",
    "\n",
    "plt.figure(figsize=(5, 4))\n",
    "sns.heatmap(cm, annot=True, fmt=\"d\", cmap=\"Blues\")\n",
    "plt.title(\"Matrice de confusion - Ensemble d'entraînement\")\n",
    "\n",
    "plt.xlabel(\"Prédit\")\n",
    "plt.ylabel(\"Réel\")\n",
    "plt.tight_layout()\n",
    "\n",
    "plt.show()"
   ]
  },
  {
   "cell_type": "markdown",
   "id": "1368d796",
   "metadata": {},
   "source": [
    "## VI - Sauvegarde du meilleur modèle"
   ]
  },
  {
   "cell_type": "code",
   "execution_count": 11,
   "id": "3f6e2715",
   "metadata": {},
   "outputs": [
    {
     "name": "stdout",
     "output_type": "stream",
     "text": [
      "Modèle entraîné, évalué et sauvegardé.\n"
     ]
    }
   ],
   "source": [
    "joblib.dump(scaler, \"./Models/scaler.pkl\")\n",
    "joblib.dump(best_model, \"./Models/model.pkl\")  \n",
    "joblib.dump(X_train.columns.tolist(), \"./Models/features.pkl\")\n",
    "\n",
    "print(\"Modèle entraîné, évalué et sauvegardé.\")"
   ]
  }
 ],
 "metadata": {
  "kernelspec": {
   "display_name": "Python 3",
   "language": "python",
   "name": "python3"
  },
  "language_info": {
   "codemirror_mode": {
    "name": "ipython",
    "version": 3
   },
   "file_extension": ".py",
   "mimetype": "text/x-python",
   "name": "python",
   "nbconvert_exporter": "python",
   "pygments_lexer": "ipython3",
   "version": "3.10.11"
  }
 },
 "nbformat": 4,
 "nbformat_minor": 5
}
